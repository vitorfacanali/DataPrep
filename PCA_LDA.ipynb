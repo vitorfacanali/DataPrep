{
 "cells": [
  {
   "cell_type": "markdown",
   "id": "bcdc44ff",
   "metadata": {},
   "source": [
    "# Data Prep"
   ]
  },
  {
   "cell_type": "markdown",
   "id": "e1535270",
   "metadata": {},
   "source": [
    "## PCA"
   ]
  },
  {
   "cell_type": "markdown",
   "id": "b5f36c38",
   "metadata": {},
   "source": [
    "Principal Component Analysis (PCA) ou Analise da Componente Principal, tem como objetivo reduzir a dimensionalidade dos dados, através da transformação linear ortogonal dos dados, **reduzindo de n dimensões para k dimensões**, analisando as dimensões de maior variabilidade.\n",
    "\n",
    "<img src= 'imagens_dataprep/pca2.jpg'>\n",
    "\n",
    "\n",
    "A variabilidade do resultado dos dados é dado por:\n",
    "\n",
    "\n",
    "$$\n",
    "var = \\frac{\\lambda}{\\lambda+\\zeta+...}\n",
    "$$\n",
    "\n",
    "\n",
    "sendo que $\\lambda$ é a variabilidade da primeira dimensão, $\\zeta$ é da segunda e assim por diante"
   ]
  },
  {
   "cell_type": "markdown",
   "id": "a7c5c2e7",
   "metadata": {},
   "source": [
    "## LDA"
   ]
  },
  {
   "cell_type": "markdown",
   "id": "d8110630",
   "metadata": {},
   "source": [
    "Analise Discriminante Linear é uma técnica **supervisionado** de Data Prep, que tem como objetivo projetar um dataser com uma baixa divisão dimensional (**reduzir dimensionalidade**), mas com uma boa separação entre as classes (clusterização / classificação), visando os eixos que maximizam a separação entre várias classes, afim de **evitar overfitting** e também **reduzir os custos computacionais**.\n",
    "\n",
    "### Lambda de Wilks \n",
    "Varia entre 0 - 1 e diz o quanto separado são os valores, no qual 0 é 100% separaveis e 1, não separavel\n",
    "\n",
    "\n",
    "Ex:\n",
    "\n",
    "<img src= 'imagens_dataprep/lda.png'>"
   ]
  }
 ],
 "metadata": {
  "kernelspec": {
   "display_name": "Python 3",
   "language": "python",
   "name": "python3"
  },
  "language_info": {
   "codemirror_mode": {
    "name": "ipython",
    "version": 3
   },
   "file_extension": ".py",
   "mimetype": "text/x-python",
   "name": "python",
   "nbconvert_exporter": "python",
   "pygments_lexer": "ipython3",
   "version": "3.7.0"
  }
 },
 "nbformat": 4,
 "nbformat_minor": 5
}
